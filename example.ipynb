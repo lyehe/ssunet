{
 "cells": [
  {
   "cell_type": "code",
   "execution_count": 1,
   "metadata": {},
   "outputs": [
    {
     "name": "stderr",
     "output_type": "stream",
     "text": [
      "GPU available: True (cuda), used: True\n",
      "TPU available: False, using: 0 TPU cores\n",
      "HPU available: False, using: 0 HPUs\n"
     ]
    },
    {
     "name": "stdout",
     "output_type": "stream",
     "text": [
      "input_size: (12, 1, 32, 128, 128)\n"
     ]
    },
    {
     "name": "stderr",
     "output_type": "stream",
     "text": [
      "LOCAL_RANK: 0 - CUDA_VISIBLE_DEVICES: [0]\n",
      "\n",
      "  | Name       | Type       | Params | Mode \n",
      "--------------------------------------------------\n",
      "0 | down_convs | ModuleList | 9.6 M  | train\n",
      "1 | up_convs   | ModuleList | 5.1 M  | train\n",
      "2 | conv_final | Sequential | 33     | train\n",
      "--------------------------------------------------\n",
      "14.7 M    Trainable params\n",
      "0         Non-trainable params\n",
      "14.7 M    Total params\n",
      "58.718    Total estimated model params size (MB)\n",
      "98        Modules in train mode\n",
      "0         Modules in eval mode\n"
     ]
    },
    {
     "data": {
      "application/vnd.jupyter.widget-view+json": {
       "model_id": "e0d91bb631114f2899128ad5fff20d3a",
       "version_major": 2,
       "version_minor": 0
      },
      "text/plain": [
       "Sanity Checking: |          | 0/? [00:00<?, ?it/s]"
      ]
     },
     "metadata": {},
     "output_type": "display_data"
    },
    {
     "data": {
      "application/vnd.jupyter.widget-view+json": {
       "model_id": "7eaa590bd96d469d808e81bb42b35ef5",
       "version_major": 2,
       "version_minor": 0
      },
      "text/plain": [
       "Training: |          | 0/? [00:00<?, ?it/s]"
      ]
     },
     "metadata": {},
     "output_type": "display_data"
    }
   ],
   "source": [
    "from src.ssunet.dataloader import BinomDataset, ValidationDataset\n",
    "from src.ssunet.models import Bit2Bit\n",
    "from src.ssunet.configs import load_config, example_config_path\n",
    "\n",
    "config = load_config(example_config_path)\n",
    "data = config.path_config.load_data_only()\n",
    "validation_data = config.path_config.load_reference_and_ground_truth()\n",
    "model = Bit2Bit(config.model_config)\n",
    "train_data = BinomDataset(data, config.data_config, config.split_params)\n",
    "validation_data = ValidationDataset(validation_data, config.data_config)\n",
    "train_loader = config.loader_config.loader(train_data)\n",
    "validation_loader = config.loader_config.loader(validation_data)\n",
    "\n",
    "# Print the input size\n",
    "print(f\"input_size: {tuple(next(iter(train_loader))[1].shape)}\")\n",
    "\n",
    "# Train the model\n",
    "trainer = config.train_config.trainer\n",
    "trainer.fit(model, train_loader, validation_loader)"
   ]
  }
 ],
 "metadata": {
  "kernelspec": {
   "display_name": "GAP3D",
   "language": "python",
   "name": "python3"
  },
  "language_info": {
   "codemirror_mode": {
    "name": "ipython",
    "version": 3
   },
   "file_extension": ".py",
   "mimetype": "text/x-python",
   "name": "python",
   "nbconvert_exporter": "python",
   "pygments_lexer": "ipython3",
   "version": "3.10.15"
  }
 },
 "nbformat": 4,
 "nbformat_minor": 2
}
