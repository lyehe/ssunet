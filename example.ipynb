{
 "cells": [
  {
   "cell_type": "code",
   "execution_count": 1,
   "metadata": {},
   "outputs": [],
   "source": [
    "import torch\n",
    "import numpy as np\n",
    "\n",
    "from ssunet.config import (\n",
    "    PathConfig,\n",
    "    SingleVolumeConfig,\n",
    "    SplitParams,\n",
    "    ModelConfig,\n",
    "    TrainConfig,\n",
    "    load_yaml,\n",
    "    load_config,\n",
    ")\n",
    "\n",
    "example_data = np.random.rand(512, 512, 512)\n",
    "data_config = SingleVolumeConfig(example_data, 128, 32)\n",
    "split_params = SplitParams()\n",
    "model_config = ModelConfig()\n",
    "train_config = TrainConfig()"
   ]
  },
  {
   "cell_type": "code",
   "execution_count": 2,
   "metadata": {},
   "outputs": [],
   "source": [
    "from ssunet.dataloader import BinomDataset\n",
    "train_data = BinomDataset(data_config, split_params=split_params)\n"
   ]
  },
  {
   "cell_type": "code",
   "execution_count": null,
   "metadata": {},
   "outputs": [],
   "source": [
    "import torch.utils.data as dt\n"
   ]
  }
 ],
 "metadata": {
  "kernelspec": {
   "display_name": "GAP3D",
   "language": "python",
   "name": "python3"
  },
  "language_info": {
   "codemirror_mode": {
    "name": "ipython",
    "version": 3
   },
   "file_extension": ".py",
   "mimetype": "text/x-python",
   "name": "python",
   "nbconvert_exporter": "python",
   "pygments_lexer": "ipython3",
   "version": "3.11.6"
  }
 },
 "nbformat": 4,
 "nbformat_minor": 2
}
