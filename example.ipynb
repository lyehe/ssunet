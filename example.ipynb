{
 "cells": [
  {
   "cell_type": "code",
   "execution_count": 1,
   "metadata": {},
   "outputs": [
    {
     "name": "stderr",
     "output_type": "stream",
     "text": [
      "GPU available: True (cuda), used: True\n",
      "TPU available: False, using: 0 TPU cores\n",
      "HPU available: False, using: 0 HPUs\n",
      "LOCAL_RANK: 0 - CUDA_VISIBLE_DEVICES: [0]\n"
     ]
    },
    {
     "name": "stdout",
     "output_type": "stream",
     "text": [
      "input_size: (3, 1, 32, 256, 256)\n"
     ]
    },
    {
     "name": "stderr",
     "output_type": "stream",
     "text": [
      "\n",
      "  | Name        | Type                             | Params | Mode \n",
      "-------------------------------------------------------------------------\n",
      "0 | psnr_metric | PeakSignalNoiseRatio             | 0      | train\n",
      "1 | ssim_metric | StructuralSimilarityIndexMeasure | 0      | train\n",
      "2 | down_convs  | ModuleList                       | 9.6 M  | train\n",
      "3 | up_convs    | ModuleList                       | 5.1 M  | train\n",
      "4 | conv_final  | Sequential                       | 33     | train\n",
      "-------------------------------------------------------------------------\n",
      "14.7 M    Trainable params\n",
      "0         Non-trainable params\n",
      "14.7 M    Total params\n",
      "58.718    Total estimated model params size (MB)\n",
      "100       Modules in train mode\n",
      "0         Modules in eval mode\n"
     ]
    },
    {
     "data": {
      "application/vnd.jupyter.widget-view+json": {
       "model_id": "7a198d74f0a34a02b51f6089ed2d4394",
       "version_major": 2,
       "version_minor": 0
      },
      "text/plain": [
       "Sanity Checking: |          | 0/? [00:00<?, ?it/s]"
      ]
     },
     "metadata": {},
     "output_type": "display_data"
    },
    {
     "data": {
      "application/vnd.jupyter.widget-view+json": {
       "model_id": "230e6c1b320a47fda90cdcdd5049f068",
       "version_major": 2,
       "version_minor": 0
      },
      "text/plain": [
       "Training: |          | 0/? [00:00<?, ?it/s]"
      ]
     },
     "metadata": {},
     "output_type": "display_data"
    },
    {
     "data": {
      "application/vnd.jupyter.widget-view+json": {
       "model_id": "3abbe6161a424d39aedf925695c3e2a0",
       "version_major": 2,
       "version_minor": 0
      },
      "text/plain": [
       "Validation: |          | 0/? [00:00<?, ?it/s]"
      ]
     },
     "metadata": {},
     "output_type": "display_data"
    },
    {
     "data": {
      "application/vnd.jupyter.widget-view+json": {
       "model_id": "b25497be3184430ca549292f23b2c345",
       "version_major": 2,
       "version_minor": 0
      },
      "text/plain": [
       "Validation: |          | 0/? [00:00<?, ?it/s]"
      ]
     },
     "metadata": {},
     "output_type": "display_data"
    }
   ],
   "source": [
    "from src.ssunet.datasets import BinomDataset, ValidationDataset\n",
    "from src.ssunet.models import Bit2Bit\n",
    "from src.ssunet.configs import load_config\n",
    "from src.ssunet.constants import DEFAULT_CONFIG_PATH\n",
    "\n",
    "config = load_config(DEFAULT_CONFIG_PATH)\n",
    "\n",
    "# Load data for training and validation, ground truth for validation metrics\n",
    "data = config.path_config.load_data_only()\n",
    "validation_data = config.path_config.load_reference_and_ground_truth()\n",
    "\n",
    "# Load data configurations and disable augmentation for validation\n",
    "data_config = config.data_config\n",
    "validation_config = data_config.validation_config\n",
    "\n",
    "# Create training and validation datasets\n",
    "training_data = BinomDataset(data, data_config, config.split_params)\n",
    "validation_data = ValidationDataset(validation_data, validation_config)\n",
    "\n",
    "# Create model\n",
    "model = Bit2Bit(config.model_config)\n",
    "\n",
    "# Create data loaders\n",
    "training_loader = config.loader_config.loader(training_data)\n",
    "validation_loader = config.loader_config.loader(validation_data)\n",
    "\n",
    "# Print the input size\n",
    "print(f\"input_size: {tuple(next(iter(training_loader))[1].shape)}\")\n",
    "\n",
    "# Train the model\n",
    "trainer = config.train_config.trainer\n",
    "trainer.fit(model, training_loader, validation_loader)"
   ]
  },
  {
   "cell_type": "code",
   "execution_count": 2,
   "metadata": {},
   "outputs": [],
   "source": [
    "trainer.save_checkpoint(config.train_config.default_root_dir / \"model.ckpt\")\n"
   ]
  }
 ],
 "metadata": {
  "kernelspec": {
   "display_name": "GAP3D",
   "language": "python",
   "name": "python3"
  },
  "language_info": {
   "codemirror_mode": {
    "name": "ipython",
    "version": 3
   },
   "file_extension": ".py",
   "mimetype": "text/x-python",
   "name": "python",
   "nbconvert_exporter": "python",
   "pygments_lexer": "ipython3",
   "version": "3.10.15"
  }
 },
 "nbformat": 4,
 "nbformat_minor": 2
}
