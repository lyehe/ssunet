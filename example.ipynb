{
 "cells": [
  {
   "cell_type": "code",
   "execution_count": null,
   "metadata": {},
   "outputs": [],
   "source": [
    "import sys\n",
    "\n",
    "sys.path.append(\"..\")\n",
    "\n",
    "from src.ssunet.dataloader import BinomDataset, ValidationDataset\n",
    "from src.ssunet import SSUnet, load_config\n",
    "\n",
    "config = load_config(\"config/config.yml\")\n",
    "data = config.path_config.load_ssunet_data()\n",
    "data.binxy(mode=\"max\")\n",
    "\n",
    "model = SSUnet(config.model_config)\n",
    "train_data = BinomDataset(data, config.data_config, split_params=config.split_params)\n",
    "validation_data = ValidationDataset\n",
    "train_loader = config.loader_config.loader(train_data)\n",
    "trainer = config.train_config.trainer\n",
    "print(f\"input_size: {tuple(next(iter(train_loader))[1].shape)}\")"
   ]
  },
  {
   "cell_type": "code",
   "execution_count": null,
   "metadata": {},
   "outputs": [],
   "source": [
    "trainer.logger"
   ]
  },
  {
   "cell_type": "code",
   "execution_count": null,
   "metadata": {},
   "outputs": [],
   "source": [
    "trainer.fit(model, train_loader, train_loader)"
   ]
  }
 ],
 "metadata": {
  "kernelspec": {
   "display_name": "GAP3D",
   "language": "python",
   "name": "python3"
  },
  "language_info": {
   "codemirror_mode": {
    "name": "ipython",
    "version": 3
   },
   "file_extension": ".py",
   "mimetype": "text/x-python",
   "name": "python",
   "nbconvert_exporter": "python",
   "pygments_lexer": "ipython3",
   "version": "3.10.13"
  }
 },
 "nbformat": 4,
 "nbformat_minor": 2
}
