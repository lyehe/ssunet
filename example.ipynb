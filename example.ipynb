{
 "cells": [
  {
   "cell_type": "code",
   "execution_count": 1,
   "metadata": {},
   "outputs": [
    {
     "name": "stderr",
     "output_type": "stream",
     "text": [
      "GPU available: True (cuda), used: True\n",
      "TPU available: False, using: 0 TPU cores\n",
      "IPU available: False, using: 0 IPUs\n",
      "HPU available: False, using: 0 HPUs\n"
     ]
    },
    {
     "name": "stdout",
     "output_type": "stream",
     "text": [
      "input_size: (20, 1, 32, 32, 32)\n"
     ]
    }
   ],
   "source": [
    "import torch\n",
    "import numpy as np\n",
    "\n",
    "from ssunet.config import (\n",
    "    PathConfig,\n",
    "    SingleVolumeConfig,\n",
    "    SplitParams,\n",
    "    ModelConfig,\n",
    "    LoaderConfig,\n",
    "    TrainConfig,\n",
    "    load_yaml,\n",
    "    load_config,\n",
    ")\n",
    "from ssunet.dataloader import BinomDataset\n",
    "import torch.utils.data as dt\n",
    "from lightning.pytorch.loggers import TensorBoardLogger\n",
    "\n",
    "import pytorch_lightning as pl\n",
    "from pytorch_lightning.callbacks import (\n",
    "    LearningRateMonitor,\n",
    "    ModelCheckpoint,\n",
    "    EarlyStopping,\n",
    "    DeviceStatsMonitor,\n",
    ")\n",
    "\n",
    "from ssunet.models import SSUnet\n",
    "\n",
    "example_data = np.ones((512, 512, 512)).astype(np.float32)\n",
    "data_config = SingleVolumeConfig(example_data, 32, 32)\n",
    "split_params = SplitParams()\n",
    "model_config = ModelConfig()\n",
    "loader_config = LoaderConfig()\n",
    "train_config = TrainConfig()\n",
    "\n",
    "train_data = BinomDataset(data_config, split_params=split_params)\n",
    "\n",
    "train_loader = dt.DataLoader(train_data, **loader_config.to_dict)\n",
    "test_name = train_config.name\n",
    "logger = TensorBoardLogger(save_dir=\"./model_dir\", name=\"test_name\")\n",
    "\n",
    "\n",
    "trainer = pl.Trainer(**train_config())\n",
    "\n",
    "print(f\"input_size: {tuple(next(iter(train_loader))[1].shape)}\")\n",
    "\n",
    "model = SSUnet(model_config)"
   ]
  },
  {
   "cell_type": "code",
   "execution_count": 2,
   "metadata": {},
   "outputs": [
    {
     "name": "stderr",
     "output_type": "stream",
     "text": [
      "LOCAL_RANK: 0 - CUDA_VISIBLE_DEVICES: [0]\n",
      "\n",
      "  | Name         | Type           | Params\n",
      "------------------------------------------------\n",
      "0 | down_convs   | ModuleList     | 3.5 M \n",
      "1 | up_convs     | ModuleList     | 1.5 M \n",
      "2 | conv_final   | Sequential     | 25    \n",
      "3 | _psnr_metric | InferenceModel | 0     \n",
      "4 | _ssim_metric | InferenceModel | 0     \n",
      "------------------------------------------------\n",
      "5.0 M     Trainable params\n",
      "0         Non-trainable params\n",
      "5.0 M     Total params\n",
      "20.008    Total estimated model params size (MB)\n"
     ]
    },
    {
     "data": {
      "application/vnd.jupyter.widget-view+json": {
       "model_id": "95cac34042354e1cb9458851d5b4a64e",
       "version_major": 2,
       "version_minor": 0
      },
      "text/plain": [
       "Sanity Checking: |          | 0/? [00:00<?, ?it/s]"
      ]
     },
     "metadata": {},
     "output_type": "display_data"
    },
    {
     "data": {
      "application/vnd.jupyter.widget-view+json": {
       "model_id": "98791a68b4024ea1966b6ee8b795cee4",
       "version_major": 2,
       "version_minor": 0
      },
      "text/plain": [
       "Training: |          | 0/? [00:00<?, ?it/s]"
      ]
     },
     "metadata": {},
     "output_type": "display_data"
    },
    {
     "data": {
      "application/vnd.jupyter.widget-view+json": {
       "model_id": "70c9d4e095734fe39aac2c2363aa9101",
       "version_major": 2,
       "version_minor": 0
      },
      "text/plain": [
       "Validation: |          | 0/? [00:00<?, ?it/s]"
      ]
     },
     "metadata": {},
     "output_type": "display_data"
    },
    {
     "data": {
      "application/vnd.jupyter.widget-view+json": {
       "model_id": "349a0caa5acc4eec9981ff1fa03be26c",
       "version_major": 2,
       "version_minor": 0
      },
      "text/plain": [
       "Validation: |          | 0/? [00:00<?, ?it/s]"
      ]
     },
     "metadata": {},
     "output_type": "display_data"
    },
    {
     "name": "stderr",
     "output_type": "stream",
     "text": [
      "c:\\Users\\HEQ\\mambaforge\\envs\\GAP3D\\Lib\\site-packages\\pytorch_lightning\\trainer\\call.py:54: Detected KeyboardInterrupt, attempting graceful shutdown...\n"
     ]
    }
   ],
   "source": [
    "trainer.fit(model, train_loader, train_loader)"
   ]
  }
 ],
 "metadata": {
  "kernelspec": {
   "display_name": "GAP3D",
   "language": "python",
   "name": "python3"
  },
  "language_info": {
   "codemirror_mode": {
    "name": "ipython",
    "version": 3
   },
   "file_extension": ".py",
   "mimetype": "text/x-python",
   "name": "python",
   "nbconvert_exporter": "python",
   "pygments_lexer": "ipython3",
   "version": "3.11.6"
  }
 },
 "nbformat": 4,
 "nbformat_minor": 2
}
