{
 "cells": [
  {
   "cell_type": "code",
   "execution_count": 1,
   "metadata": {},
   "outputs": [],
   "source": [
    "from src.ssunet.datasets import BinomDataset, ValidationDataset\n",
    "from src.ssunet.models import Bit2Bit\n",
    "from src.ssunet.configs import MasterConfig\n",
    "from src.ssunet.constants import DEFAULT_CONFIG_PATH\n",
    "\n",
    "config = MasterConfig.from_config(DEFAULT_CONFIG_PATH)\n",
    "config.copy_config(DEFAULT_CONFIG_PATH)\n",
    "\n",
    "# Load data for training and validation, ground truth for validation metrics\n",
    "data = config.path_config.load_data_only()\n",
    "validation_data = config.path_config.load_reference_and_ground_truth()\n",
    "\n",
    "# Load data configurations and disable augmentation for validation\n",
    "data_config = config.data_config\n",
    "validation_config = data_config.validation_config\n",
    "\n",
    "# Create training and validation datasets\n",
    "training_data = BinomDataset(data, data_config, config.split_params)\n",
    "validation_data = ValidationDataset(validation_data, validation_config)\n",
    "\n",
    "# Create model\n",
    "model = Bit2Bit(config.model_config)\n",
    "\n",
    "# Create data loaders\n",
    "training_loader = config.loader_config.loader(training_data)\n",
    "validation_loader = config.loader_config.loader(validation_data)\n",
    "\n",
    "# Print the input size\n",
    "print(f\"input_size: {tuple(next(iter(training_loader))[1].shape)}\")\n",
    "\n",
    "# Train the model\n",
    "trainer = config.trainer\n",
    "trainer.fit(model, training_loader, validation_loader)"
   ]
  },
  {
   "cell_type": "code",
   "execution_count": null,
   "metadata": {},
   "outputs": [],
   "source": [
    "trainer.save_checkpoint(config.train_config.default_root_dir / \"model.ckpt\")\n"
   ]
  },
  {
   "cell_type": "code",
   "execution_count": null,
   "metadata": {},
   "outputs": [],
   "source": [
    "type(data.primary_data)"
   ]
  },
  {
   "cell_type": "code",
   "execution_count": null,
   "metadata": {},
   "outputs": [],
   "source": [
    "from src.tools.gpuinference import gpu_patch_inference\n",
    "import numpy as np\n",
    "from tifffile import imwrite\n",
    "\n",
    "output = gpu_patch_inference(\n",
    "    model,\n",
    "    data.primary_data.astype(np.float32),\n",
    "    min_overlap=48,\n",
    "    initial_patch_depth=64,\n",
    "    device=config.train_config.device_numbers,\n",
    ")\n",
    "\n",
    "imwrite(config.train_config.default_root_dir / \"input.tif\", data.primary_data)\n",
    "imwrite(config.train_config.default_root_dir / \"inference.tif\", output)"
   ]
  },
  {
   "cell_type": "code",
   "execution_count": 52,
   "metadata": {},
   "outputs": [],
   "source": [
    "from importlib import reload\n",
    "import src.tools.tools\n",
    "import src.tools.metrics\n",
    "from src.tools.tools import clear_vram\n",
    "reload(src.tools.tools)\n",
    "reload(src.tools.metrics)\n",
    "\n",
    "clear_vram()\n"
   ]
  },
  {
   "cell_type": "code",
   "execution_count": null,
   "metadata": {},
   "outputs": [],
   "source": [
    "import sys\n",
    "sys.modules"
   ]
  },
  {
   "cell_type": "code",
   "execution_count": null,
   "metadata": {},
   "outputs": [],
   "source": [
    "from src.tools.tools import group_metrics\n",
    "from tifffile import imread\n",
    "\n",
    "\n",
    "input_new = data.primary_data.astype(np.float32)[:512].copy()\n",
    "output_new = output[:512].copy()\n",
    "ground_truth = imread(config.path_config.ground_truth_file)[:512].astype(np.float32).copy()\n",
    "\n",
    "group_metrics(input_new, output_new, ground_truth, config.train_config.default_root_dir)\n"
   ]
  }
 ],
 "metadata": {
  "kernelspec": {
   "display_name": "GAP3D",
   "language": "python",
   "name": "python3"
  },
  "language_info": {
   "codemirror_mode": {
    "name": "ipython",
    "version": 3
   },
   "file_extension": ".py",
   "mimetype": "text/x-python",
   "name": "python",
   "nbconvert_exporter": "python",
   "pygments_lexer": "ipython3",
   "version": "3.10.15"
  }
 },
 "nbformat": 4,
 "nbformat_minor": 2
}
