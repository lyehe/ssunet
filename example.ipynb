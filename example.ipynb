{
 "cells": [
  {
   "cell_type": "code",
   "execution_count": null,
   "metadata": {},
   "outputs": [],
   "source": [
    "from src.ssunet.dataloader import BinomDataset, ValidationDataset\n",
    "from src.ssunet.models import Bit2Bit\n",
    "from src.ssunet.configs import load_config, example_config_path\n",
    "\n",
    "# Load the configuration\n",
    "config = load_config(example_config_path)\n",
    "\n",
    "# Load the data based on the configuration\n",
    "data = config.path_config.load_ssunet_data()\n",
    "ground_truth = config.path_config.load_ground_truth()\n",
    "\n",
    "model = Bit2Bit(config.model_config)\n",
    "\n",
    "# Initialize the datasets based on the configuration\n",
    "train_data = BinomDataset(data, config.data_config, config.split_params)\n",
    "\n",
    "# Initialize the dataloaders\n",
    "train_loader = config.loader_config.loader(train_data)\n",
    "\n",
    "# Initialize the trainer\n",
    "trainer = config.train_config.trainer\n",
    "\n",
    "# Print the input size\n",
    "print(f\"input_size: {tuple(next(iter(train_loader))[1].shape)}\")\n",
    "\n",
    "# Train the model\n",
    "trainer.fit(model, train_loader, train_loader)"
   ]
  }
 ],
 "metadata": {
  "kernelspec": {
   "display_name": "GAP3D",
   "language": "python",
   "name": "python3"
  },
  "language_info": {
   "codemirror_mode": {
    "name": "ipython",
    "version": 3
   },
   "file_extension": ".py",
   "mimetype": "text/x-python",
   "name": "python",
   "nbconvert_exporter": "python",
   "pygments_lexer": "ipython3",
   "version": "3.10.15"
  }
 },
 "nbformat": 4,
 "nbformat_minor": 2
}
