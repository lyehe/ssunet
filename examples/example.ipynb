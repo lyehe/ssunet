{
 "cells": [
  {
   "cell_type": "code",
   "execution_count": 1,
   "metadata": {},
   "outputs": [
    {
     "name": "stderr",
     "output_type": "stream",
     "text": [
      "GPU available: True (cuda), used: True\n",
      "TPU available: False, using: 0 TPU cores\n",
      "IPU available: False, using: 0 IPUs\n",
      "HPU available: False, using: 0 HPUs\n"
     ]
    },
    {
     "name": "stdout",
     "output_type": "stream",
     "text": [
      "input_size: (3, 1, 32, 256, 256)\n"
     ]
    }
   ],
   "source": [
    "import sys\n",
    "sys.path.append(\"..\")\n",
    "\n",
    "from ssunet.dataloader import BinomDataset\n",
    "from ssunet import SSUnet, load_config\n",
    "\n",
    "config = load_config(\"../config/config.yml\")\n",
    "data = config.path_config.load_ssunet_data()\n",
    "\n",
    "train_data = BinomDataset(data, config.data_config)\n",
    "train_loader = config.loader_config.loader(train_data)\n",
    "test_name = config.train_config.name\n",
    "trainer = config.train_config.trainer(path = config.name)\n",
    "model = SSUnet(config.model_config)\n",
    "print(f\"input_size: {tuple(next(iter(train_loader))[1].shape)}\")\n"
   ]
  },
  {
   "cell_type": "code",
   "execution_count": 2,
   "metadata": {},
   "outputs": [
    {
     "name": "stderr",
     "output_type": "stream",
     "text": [
      "LOCAL_RANK: 0 - CUDA_VISIBLE_DEVICES: [0]\n",
      "\n",
      "  | Name         | Type           | Params\n",
      "------------------------------------------------\n",
      "0 | down_convs   | ModuleList     | 25.0 M\n",
      "1 | up_convs     | ModuleList     | 10.0 M\n",
      "2 | conv_final   | Sequential     | 33    \n",
      "3 | _psnr_metric | InferenceModel | 0     \n",
      "4 | _ssim_metric | InferenceModel | 0     \n",
      "------------------------------------------------\n",
      "34.9 M    Trainable params\n",
      "0         Non-trainable params\n",
      "34.9 M    Total params\n",
      "139.786   Total estimated model params size (MB)\n"
     ]
    },
    {
     "data": {
      "application/vnd.jupyter.widget-view+json": {
       "model_id": "f3343a9e591d45249e02785409cbe5d1",
       "version_major": 2,
       "version_minor": 0
      },
      "text/plain": [
       "Sanity Checking: |          | 0/? [00:00<?, ?it/s]"
      ]
     },
     "metadata": {},
     "output_type": "display_data"
    },
    {
     "data": {
      "application/vnd.jupyter.widget-view+json": {
       "model_id": "439e12e8c5de44eeb8d0399e586eaf6f",
       "version_major": 2,
       "version_minor": 0
      },
      "text/plain": [
       "Training: |          | 0/? [00:00<?, ?it/s]"
      ]
     },
     "metadata": {},
     "output_type": "display_data"
    },
    {
     "data": {
      "application/vnd.jupyter.widget-view+json": {
       "model_id": "1a5e15d6f7274b4d9ed83a32e829dd4e",
       "version_major": 2,
       "version_minor": 0
      },
      "text/plain": [
       "Validation: |          | 0/? [00:00<?, ?it/s]"
      ]
     },
     "metadata": {},
     "output_type": "display_data"
    }
   ],
   "source": [
    "trainer.fit(model, train_loader, train_loader)"
   ]
  }
 ],
 "metadata": {
  "kernelspec": {
   "display_name": "GAP3D",
   "language": "python",
   "name": "python3"
  },
  "language_info": {
   "codemirror_mode": {
    "name": "ipython",
    "version": 3
   },
   "file_extension": ".py",
   "mimetype": "text/x-python",
   "name": "python",
   "nbconvert_exporter": "python",
   "pygments_lexer": "ipython3",
   "version": "3.11.6"
  }
 },
 "nbformat": 4,
 "nbformat_minor": 2
}
