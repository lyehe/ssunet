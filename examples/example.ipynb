{
 "cells": [
  {
   "cell_type": "code",
   "execution_count": null,
   "metadata": {},
   "outputs": [],
   "source": [
    "import torch\n",
    "import numpy as np\n",
    "import sys\n",
    "sys.path.append(\"..\")\n",
    "\n",
    "from ssunet.config import (\n",
    "    PathConfig,\n",
    "    DataConfig,\n",
    "    SplitParams,\n",
    "    ModelConfig,\n",
    "    LoaderConfig,\n",
    "    TrainConfig,\n",
    "    load_yaml,\n",
    "    load_config,\n",
    ")\n",
    "from ssunet.dataloader import BinomDataset\n",
    "import torch.utils.data as dt\n",
    "from lightning.pytorch.loggers import TensorBoardLogger\n",
    "\n",
    "import pytorch_lightning as pl\n",
    "from pytorch_lightning.callbacks import (\n",
    "    LearningRateMonitor,\n",
    "    ModelCheckpoint,\n",
    "    EarlyStopping,\n",
    "    DeviceStatsMonitor,\n",
    ")\n",
    "\n",
    "from ssunet.models import SSUnet\n",
    "\n",
    "example_data = np.ones((512, 512, 512)).astype(np.float32)\n",
    "data_config = DataConfig(example_data, 32, 32)\n",
    "split_params = SplitParams()\n",
    "model_config = ModelConfig()\n",
    "loader_config = LoaderConfig()\n",
    "train_config = TrainConfig()\n",
    "\n",
    "train_data = BinomDataset(data_config, split_params=split_params)\n",
    "\n",
    "train_loader = dt.DataLoader(train_data, **loader_config.to_dict)\n",
    "test_name = train_config.name\n",
    "logger = TensorBoardLogger(save_dir=\"./model_dir\", name=\"test_name\")\n",
    "\n",
    "\n",
    "trainer = pl.Trainer(**train_config.to_dict)\n",
    "\n",
    "print(f\"input_size: {tuple(next(iter(train_loader))[1].shape)}\")\n",
    "\n",
    "model = SSUnet(model_config)"
   ]
  },
  {
   "cell_type": "markdown",
   "metadata": {},
   "source": []
  },
  {
   "cell_type": "code",
   "execution_count": null,
   "metadata": {},
   "outputs": [],
   "source": [
    "trainer.fit(model, train_loader, train_loader)"
   ]
  }
 ],
 "metadata": {
  "kernelspec": {
   "display_name": "GAP3D",
   "language": "python",
   "name": "python3"
  },
  "language_info": {
   "codemirror_mode": {
    "name": "ipython",
    "version": 3
   },
   "file_extension": ".py",
   "mimetype": "text/x-python",
   "name": "python",
   "nbconvert_exporter": "python",
   "pygments_lexer": "ipython3",
   "version": "3.11.6"
  }
 },
 "nbformat": 4,
 "nbformat_minor": 2
}
