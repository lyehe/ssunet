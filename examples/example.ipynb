{
 "cells": [
  {
   "cell_type": "code",
   "execution_count": 3,
   "metadata": {},
   "outputs": [
    {
     "name": "stderr",
     "output_type": "stream",
     "text": [
      "GPU available: True (cuda), used: True\n",
      "TPU available: False, using: 0 TPU cores\n",
      "IPU available: False, using: 0 IPUs\n",
      "HPU available: False, using: 0 HPUs\n"
     ]
    },
    {
     "name": "stdout",
     "output_type": "stream",
     "text": [
      "input_size: (1, 1, 32, 256, 256)\n"
     ]
    }
   ],
   "source": [
    "import numpy as np\n",
    "import sys\n",
    "sys.path.append(\"..\")\n",
    "from ssunet.dataloader import BinomDataset\n",
    "from ssunet import SSUnet, SSUnetData, load_config\n",
    "\n",
    "example_data = np.ones((512, 512, 512)).astype(np.float32)\n",
    "data = SSUnetData(data=example_data, reference=example_data)\n",
    "config = load_config(\"../config/config.yml\")\n",
    "\n",
    "train_data = BinomDataset(data, config.data_config)\n",
    "train_loader = config.loader_config.loader(train_data)\n",
    "test_name = config.train_config.name\n",
    "trainer = config.train_config.trainer\n",
    "model = SSUnet(config.model_config)\n",
    "print(f\"input_size: {tuple(next(iter(train_loader))[1].shape)}\")\n"
   ]
  },
  {
   "cell_type": "code",
   "execution_count": 4,
   "metadata": {},
   "outputs": [
    {
     "name": "stderr",
     "output_type": "stream",
     "text": [
      "LOCAL_RANK: 0 - CUDA_VISIBLE_DEVICES: [0]\n",
      "\n",
      "  | Name         | Type           | Params\n",
      "------------------------------------------------\n",
      "0 | down_convs   | ModuleList     | 3.5 M \n",
      "1 | up_convs     | ModuleList     | 1.5 M \n",
      "2 | conv_final   | Sequential     | 25    \n",
      "3 | _psnr_metric | InferenceModel | 0     \n",
      "4 | _ssim_metric | InferenceModel | 0     \n",
      "------------------------------------------------\n",
      "5.0 M     Trainable params\n",
      "0         Non-trainable params\n",
      "5.0 M     Total params\n",
      "20.008    Total estimated model params size (MB)\n"
     ]
    },
    {
     "data": {
      "application/vnd.jupyter.widget-view+json": {
       "model_id": "f1899432ccc74b4da84e29d7c7b3caa3",
       "version_major": 2,
       "version_minor": 0
      },
      "text/plain": [
       "Sanity Checking: |          | 0/? [00:00<?, ?it/s]"
      ]
     },
     "metadata": {},
     "output_type": "display_data"
    },
    {
     "data": {
      "application/vnd.jupyter.widget-view+json": {
       "model_id": "5bccd20c649d4d459d39b4060c592ab7",
       "version_major": 2,
       "version_minor": 0
      },
      "text/plain": [
       "Training: |          | 0/? [00:00<?, ?it/s]"
      ]
     },
     "metadata": {},
     "output_type": "display_data"
    }
   ],
   "source": [
    "trainer.fit(model, train_loader, train_loader)"
   ]
  }
 ],
 "metadata": {
  "kernelspec": {
   "display_name": "GAP3D",
   "language": "python",
   "name": "python3"
  },
  "language_info": {
   "codemirror_mode": {
    "name": "ipython",
    "version": 3
   },
   "file_extension": ".py",
   "mimetype": "text/x-python",
   "name": "python",
   "nbconvert_exporter": "python",
   "pygments_lexer": "ipython3",
   "version": "3.11.6"
  }
 },
 "nbformat": 4,
 "nbformat_minor": 2
}
